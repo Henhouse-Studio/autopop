{
 "cells": [
  {
   "cell_type": "code",
   "execution_count": 6,
   "metadata": {},
   "outputs": [
    {
     "name": "stdout",
     "output_type": "stream",
     "text": [
      "[0.61635501 0.47326762 0.87696553 0.23840527 0.53291692]\n",
      "[0.52412417 0.71245148 0.4799476  0.75362221 0.93728032]\n",
      "[[1. 1. 1. 1. 1.]\n",
      " [1. 1. 1. 1. 1.]\n",
      " [1. 1. 1. 1. 1.]\n",
      " [1. 1. 1. 1. 1.]\n",
      " [1. 1. 1. 1. 1.]]\n",
      "tensor([[1., 1., 1., 1., 1.],\n",
      "        [1., 1., 1., 1., 1.],\n",
      "        [1., 1., 1., 1., 1.],\n",
      "        [1., 1., 1., 1., 1.],\n",
      "        [1., 1., 1., 1., 1.]], dtype=torch.float64)\n",
      "True\n"
     ]
    }
   ],
   "source": [
    "import numpy as np\n",
    "\n",
    "# create two random arrays of the same size\n",
    "x = np.random.rand(5)\n",
    "y = np.random.rand(5)\n",
    "\n",
    "print(x)\n",
    "print(y)\n",
    "\n",
    "from scipy.spatial.distance import cdist\n",
    "from sentence_transformers import util\n",
    "\n",
    "# compute the cosine distance between the two arrays using cdist\n",
    "cosine_distance = 1 - cdist(x[:, None], y[:, None], metric='cosine')\n",
    "print(cosine_distance)\n",
    "\n",
    "# compute the cosine distance between the two arrays using sentence_transformers\n",
    "cosine_distance_st = util.pytorch_cos_sim(x[:, None], y[:, None])\n",
    "print(cosine_distance_st)\n",
    "\n",
    "print(np.allclose(cosine_distance, cosine_distance_st.cpu().numpy()))\n"
   ]
  },
  {
   "cell_type": "code",
   "execution_count": 9,
   "metadata": {},
   "outputs": [
    {
     "name": "stdout",
     "output_type": "stream",
     "text": [
      "Cosine similarity using scipy's cdist:\n",
      " [[0.76785282 0.72877287 0.73773856 0.68076054 0.57399827]\n",
      " [0.61634297 0.74934921 0.96000236 0.96592665 0.75205659]\n",
      " [0.5885976  0.87679951 0.67979463 0.78676642 0.6989256 ]\n",
      " [0.7576953  0.78866301 0.73402599 0.82553025 0.67465421]\n",
      " [0.53237274 0.81621932 0.6576293  0.68680345 0.61133636]]\n",
      "Cosine similarity using sentence_transformers' pytorch_cos_sim:\n",
      " tensor([[0.7679, 0.7288, 0.7377, 0.6808, 0.5740],\n",
      "        [0.6163, 0.7493, 0.9600, 0.9659, 0.7521],\n",
      "        [0.5886, 0.8768, 0.6798, 0.7868, 0.6989],\n",
      "        [0.7577, 0.7887, 0.7340, 0.8255, 0.6747],\n",
      "        [0.5324, 0.8162, 0.6576, 0.6868, 0.6113]], dtype=torch.float64)\n",
      "Are the results approximately equal?\n",
      " True\n"
     ]
    }
   ],
   "source": [
    "import numpy as np\n",
    "from scipy.spatial.distance import cdist\n",
    "from sentence_transformers import util\n",
    "\n",
    "# Create two random 2D arrays of shape (5, 10) to have more than one dimension\n",
    "x = np.random.rand(5, 10)\n",
    "y = np.random.rand(5, 10)\n",
    "\n",
    "# Compute the cosine distance between the two arrays using cdist\n",
    "cosine_distance = cdist(x, y, metric='cosine')\n",
    "\n",
    "# Convert cosine distance to cosine similarity\n",
    "cosine_similarity_cdist = 1 - cosine_distance\n",
    "\n",
    "# Compute the cosine similarity between the two arrays using sentence_transformers\n",
    "cosine_similarity_st = util.pytorch_cos_sim(x, y)\n",
    "\n",
    "# Print the results\n",
    "print(\"Cosine similarity using scipy's cdist:\\n\", cosine_similarity_cdist)\n",
    "print(\"Cosine similarity using sentence_transformers' pytorch_cos_sim:\\n\", cosine_similarity_st)\n",
    "\n",
    "# Compare the results\n",
    "comparison = np.isclose(cosine_similarity_cdist, cosine_similarity_st.numpy(), atol=1e-6)\n",
    "print(\"Are the results approximately equal?\\n\", comparison.all())\n"
   ]
  },
  {
   "cell_type": "code",
   "execution_count": 11,
   "metadata": {},
   "outputs": [
    {
     "name": "stdout",
     "output_type": "stream",
     "text": [
      "['Zwolle', 'Zwartewaterland', 'Zwijndrecht', 'Zuidplas', 'Zutphen', 'Zundert', 'Zevenaar', 'Zeist', 'Zoeterwoude', 'Zoetermeer', 'Zandvoort', 'Zeewolde', 'Zaltbommel', 'Woerden', 'Woudenberg', 'Zaanstad', 'Wormerland', 'Winterswijk', 'Woensdrecht', 'Wijk bij Duurstede', 'Wijdemeren', 'Wijchen', 'Weststellingwerf', 'Wierden', 'Westerveld', 'Westervoort', 'Westerwolde', 'Westland', 'Weert', 'West Maas en Waal', 'Westerkwartier', 'West Betuwe', 'Wassenaar', 'Waterland', 'Wageningen', 'Waddinxveen', 'Waalwijk', 'Waadhoeke', 'Waalre', 'Voorst', 'Voorschoten', 'Vught', 'Vlieland', 'Voerendaal', 'Voorne aan Zee', 'Vlissingen', 'Vijfheerenlanden', 'Venray', 'Vlaardingen', 'Veere', 'Venlo', 'Velsen', 'Veldhoven', 'Veendam', 'Valkenswaard', 'Veenendaal', 'Valkenburg aan de Geul', 'Urk', 'Utrecht', 'Vaals', 'Utrechtse Heuvelrug', 'Uithoorn', 'Tytsjerksteradiel', 'Uitgeest', 'Tynaarlo', 'Twenterand', 'Tilburg', 'Tubbergen', 'Teylingen', 'Den Haag', 'Tiel', 'Tholen', 'Súdwest-Fryslân', 'Terschelling', 'Texel', 'Terneuzen', 'Stichtse Vecht', 'Steenwijkerland', 'Stein', 'Steenbergen', 'Stede Broec', 'Staphorst', 'Stadskanaal', 'Someren', 'Son en Breugel', 'Soest', 'Smallingerland', 'Sliedrecht', 'Sluis', 'Sittard-Geleen', 'Sint-Michielsgestel', 'Schouwen-Duiveland', 'Schiermonnikoog', 'Simpelveld', 'Rucphen', 'Scherpenzeel', 'Schagen', 'Schiedam', 'Roosendaal', 'Roermond', 'Rotterdam', 'Rozendaal', 'Rijswijk', 'Roerdalen', 'Ridderkerk', 'Rijssen-Holten', 'Rhenen', 'Rheden', 'Reusel-De Mierden', 'Renswoude', 'Reimerswaal', 'Raalte', 'Renkum', 'Putten', 'Pijnacker-Nootdorp', 'Pekela', 'Purmerend', 'Peel en Maas', 'Overbetuwe', 'Papendrecht', 'Ouder-Amstel', 'Oude IJsselstreek', 'Oss', 'Oudewater', 'Oostzaan', 'Ooststellingwerf', 'Opmeer', 'Opsterland', 'Oosterhout', 'Oost Gelre', 'Ommen', 'Oisterwijk', 'Olst-Wijhe', 'Oldebroek', 'Oldenzaal', 'Oldambt', 'Nunspeet', 'Nuenen, Gerwen en Nederwetten', 'Oirschot', 'Oegstgeest', 'Noordwijk', 'Noordoostpolder', 'Noordenveld', 'Noardeast-Fryslân', 'Nissewaard', 'Noord-Beveland', 'Nieuwegein', 'Nijmegen', 'Nieuwkoop', 'Nijkerk', 'Mook en Middelaar', 'Nederweert', 'Neder-Betuwe', 'Montfoort', 'Moerdijk', 'Montferland', 'Midden-Groningen', 'Molenlanden', 'Midden-Drenthe', 'Middelburg', 'Meppel', 'Midden-Delfland', 'Medemblik', 'Meerssen', 'Meierijstad', 'Maastricht', 'Maashorst', 'Maassluis', 'Maasgouw', 'Maasdriel', 'Lopik', 'Losser', 'Lochem', 'Loon op Zand', 'Lisse', 'Leusden', 'Leudal', 'Lingewaard', 'Lelystad', 'Leiden', 'Leidschendam-Voorburg', 'Leiderdorp', 'Lansingerland', 'Laren', 'Leeuwarden', 'Landsmeer', 'Landgraaf', 'Land van Cuijk', 'Krimpenerwaard', 'Laarbeek', 'Koggenland', 'Katwijk', 'Kerkrade', 'Krimpen aan den IJssel', 'Kaag en Braassem', 'Kapelle', 'Kampen', 'Hulst', 'IJsselstein', 'Houten', 'Huizen', 'Horst aan de Maas', 'Hoorn', 'Hoogeveen', 'Hollands Kroon', 'Hilversum', 'Hof van Twente', 'Hoeksche Waard', 'Heumen', 'Hilvarenbeek', 'Hillegom', 'Heusden', 'Hendrik-Ido-Ambacht', \"'s-Hertogenbosch\", 'Hengelo', 'Het Hogeland', 'Heiloo', 'Helmond', 'Hellendoorn', 'Heerde', 'Heeze-Leende', 'Heerlen', 'Heerenveen', 'Hattem', 'Harlingen', 'Heemskerk', 'Heemstede', 'Hardenberg', 'Hardinxveld-Giessendam', 'Harderwijk', 'Halderberge', 'Haarlem', 'Haarlemmermeer', 'Haaksbergen', 'Gulpen-Wittem', 'Gouda', 'Groningen', 'Goirle', 'Gooise Meren', 'Gorinchem', 'Goes', 'Gilze en Rijen', 'Goeree-Overflakkee', 'Gennep', 'Etten-Leur', 'Geldrop-Mierlo', 'Geertruidenberg', 'Gemert-Bakel', 'Ermelo', 'Epe', 'Enschede', 'Enkhuizen', 'Elburg', 'Eindhoven', 'Emmen', 'Eemnes', 'Eersel', 'Ede', 'Eemsdelta', 'Eijsden-Margraten', 'Duiven', 'Echt-Susteren', 'Edam-Volendam', 'Druten', 'Dongen', 'Dordrecht', 'Drimmelen', 'Dronten', 'Drechterland', 'Doetinchem', 'Dinkelland', 'Doesburg', 'Dijk en Waard', 'Deventer', 'Deurne', 'Diemen', 'De Wolden', 'De Ronde Venen', 'Delft', 'Den Helder', 'De Fryske Marren', 'De Bilt', 'Dantumadiel', 'Dalfsen', 'Culemborg', 'Cranendonck', 'Coevorden', 'Castricum', 'Buren', 'Capelle aan den IJssel', 'Bunnik', 'Bunschoten', 'Brunssum', 'Boxtel', 'Brummen', 'Bronckhorst', 'Breda', 'Borsele', 'Borne', 'Borger-Odoorn', 'Boekel', 'Blaricum', 'Bodegraven-Reeuwijk', 'Bladel', 'Bloemendaal', 'Beuningen', 'Best', 'Bernheze', 'Beverwijk', 'Bergen op Zoom', 'Bergen (LI)', 'Berkelland', 'Bergen (NH)', 'Beesel', 'Berg en Dal', 'Bergeijk', 'Beekdaelen', 'Beek', 'Barendrecht', 'Barneveld', 'Baarle-Nassau', 'Baarn', 'Assen', 'Asten', 'Amsterdam', 'Arnhem', 'Apeldoorn', 'Amstelveen', 'Altena', 'Ameland', 'Amersfoort', 'Almere', 'Almelo', 'Alphen-Chaam', 'Alphen aan den Rijn', 'Albrandswaard', 'Alkmaar', 'Alblasserdam', 'Aalten', 'Achtkarspelen', 'Aalsmeer', 'Aa en Hunze']\n"
     ]
    }
   ],
   "source": [
    "# create a dataframe with some random text\n",
    "import pandas as pd\n",
    "\n",
    "df = pd.read_csv('/Users/datoapanta/Desktop/autopop/context-match/databases/Locations - Netherlands.csv')\n",
    "print(df['Municipality'].astype(str).tolist())"
   ]
  },
  {
   "cell_type": "code",
   "execution_count": 23,
   "metadata": {},
   "outputs": [
    {
     "name": "stdout",
     "output_type": "stream",
     "text": [
      "    Municipality                         Neighboring Municipalities  CBS Code  \\\n",
      "237       Goirle  Gilze en Rijen, Tilburg, Alphen-Chaam, Ravels,...     785.0   \n",
      "116    Purmerend  Alkmaar, Koggenland, Edam-Volendam, Wormerland...     439.0   \n",
      "113       Putten   Zeewolde, Nuldernauw, Ermelo, Nijkerk, Barneveld     273.0   \n",
      "42      Vlieland                     Terschelling, Harlingen, Texel      96.0   \n",
      "126       Opmeer  Hollands Kroon, Medemblik, Dijk en Waard, Kogg...     432.0   \n",
      "\n",
      "          Province  \n",
      "237  North Brabant  \n",
      "116  North Holland  \n",
      "113     Gelderland  \n",
      "42       Friesland  \n",
      "126  North Holland  \n",
      "The name of the table is 'Locations - Netherlands'. It has these columns and entry samples:\n",
      "Municipality: Goirle\n",
      "Neighboring Municipalities: Gilze en Rijen, Tilburg, Alphen-Chaam, Ravels, Hilvarenbeek\n",
      "CBS Code: 785.0\n",
      "Province: North Brabant\n",
      "Municipality: Purmerend\n",
      "Neighboring Municipalities: Alkmaar, Koggenland, Edam-Volendam, Wormerland, Landsmeer, Waterland\n",
      "CBS Code: 439.0\n",
      "Province: North Holland\n",
      "Municipality: Putten\n",
      "Neighboring Municipalities: Zeewolde, Nuldernauw, Ermelo, Nijkerk, Barneveld\n",
      "CBS Code: 273.0\n",
      "Province: Gelderland\n",
      "Municipality: Vlieland\n",
      "Neighboring Municipalities: Terschelling, Harlingen, Texel\n",
      "CBS Code: 96.0\n",
      "Province: Friesland\n",
      "Municipality: Opmeer\n",
      "Neighboring Municipalities: Hollands Kroon, Medemblik, Dijk en Waard, Koggenland\n",
      "CBS Code: 432.0\n",
      "Province: North Holland\n",
      "\n"
     ]
    }
   ],
   "source": [
    "df = pd.read_csv('/Users/datoapanta/Desktop/autopop/context-match/databases/Locations - Netherlands.csv')\n",
    "col_names = list(df.columns)\n",
    "sample = df.sample(n=5, random_state=42)\n",
    "\n",
    "#print the sample\n",
    "print(sample)\n",
    "\n",
    "desc = f\"The name of the table is 'Locations - Netherlands'. It has these columns: {col_names}. This is a extract from the table:\\n\"\n",
    "\n",
    "for sample_value in range(len(sample)):\n",
    "    for col_name in col_names:\n",
    "            desc += f\"{col_name}: {sample[col_name].values[sample_value]}\\n\"\n",
    "\n",
    "print(desc)"
   ]
  },
  {
   "cell_type": "code",
   "execution_count": 21,
   "metadata": {},
   "outputs": [
    {
     "data": {
      "text/html": [
       "<div>\n",
       "<style scoped>\n",
       "    .dataframe tbody tr th:only-of-type {\n",
       "        vertical-align: middle;\n",
       "    }\n",
       "\n",
       "    .dataframe tbody tr th {\n",
       "        vertical-align: top;\n",
       "    }\n",
       "\n",
       "    .dataframe thead th {\n",
       "        text-align: right;\n",
       "    }\n",
       "</style>\n",
       "<table border=\"1\" class=\"dataframe\">\n",
       "  <thead>\n",
       "    <tr style=\"text-align: right;\">\n",
       "      <th></th>\n",
       "      <th>Municipality</th>\n",
       "      <th>Neighboring Municipalities</th>\n",
       "      <th>CBS Code</th>\n",
       "      <th>Province</th>\n",
       "    </tr>\n",
       "  </thead>\n",
       "  <tbody>\n",
       "    <tr>\n",
       "      <th>0</th>\n",
       "      <td>Zwolle</td>\n",
       "      <td>Kampen, Zwartewaterland, Staphorst, Hattem, Da...</td>\n",
       "      <td>193.0</td>\n",
       "      <td>Overijssel</td>\n",
       "    </tr>\n",
       "    <tr>\n",
       "      <th>1</th>\n",
       "      <td>Zwartewaterland</td>\n",
       "      <td>Noordoostpolder, Steenwijkerland, Kampen, Stap...</td>\n",
       "      <td>1896.0</td>\n",
       "      <td>Overijssel</td>\n",
       "    </tr>\n",
       "    <tr>\n",
       "      <th>2</th>\n",
       "      <td>Zwijndrecht</td>\n",
       "      <td>Barendrecht, Ridderkerk, Hendrik-Ido-Ambacht, ...</td>\n",
       "      <td>642.0</td>\n",
       "      <td>South Holland</td>\n",
       "    </tr>\n",
       "    <tr>\n",
       "      <th>3</th>\n",
       "      <td>Zuidplas</td>\n",
       "      <td>Alphen aan den Rijn, Gouda (hoofdbetekenis), W...</td>\n",
       "      <td>1892.0</td>\n",
       "      <td>South Holland</td>\n",
       "    </tr>\n",
       "    <tr>\n",
       "      <th>4</th>\n",
       "      <td>Zutphen</td>\n",
       "      <td>Voorst, Lochem, Brummen, Bronckhorst (hoofdbet...</td>\n",
       "      <td>301.0</td>\n",
       "      <td>Gelderland</td>\n",
       "    </tr>\n",
       "  </tbody>\n",
       "</table>\n",
       "</div>"
      ],
      "text/plain": [
       "      Municipality                         Neighboring Municipalities  \\\n",
       "0           Zwolle  Kampen, Zwartewaterland, Staphorst, Hattem, Da...   \n",
       "1  Zwartewaterland  Noordoostpolder, Steenwijkerland, Kampen, Stap...   \n",
       "2      Zwijndrecht  Barendrecht, Ridderkerk, Hendrik-Ido-Ambacht, ...   \n",
       "3         Zuidplas  Alphen aan den Rijn, Gouda (hoofdbetekenis), W...   \n",
       "4          Zutphen  Voorst, Lochem, Brummen, Bronckhorst (hoofdbet...   \n",
       "\n",
       "   CBS Code       Province  \n",
       "0     193.0     Overijssel  \n",
       "1    1896.0     Overijssel  \n",
       "2     642.0  South Holland  \n",
       "3    1892.0  South Holland  \n",
       "4     301.0     Gelderland  "
      ]
     },
     "execution_count": 21,
     "metadata": {},
     "output_type": "execute_result"
    }
   ],
   "source": [
    "df.head()"
   ]
  },
  {
   "cell_type": "code",
   "execution_count": 25,
   "metadata": {},
   "outputs": [
    {
     "name": "stdout",
     "output_type": "stream",
     "text": [
      "[('item1', 'item2'), ('item1', 'item3'), ('item2', 'item3')]\n"
     ]
    }
   ],
   "source": [
    "import itertools\n",
    "\n",
    "def generate_pairs(input_dict):\n",
    "    keys = list(input_dict.keys())\n",
    "    pairs = list(itertools.combinations(keys, 2))\n",
    "    return pairs\n",
    "\n",
    "# Example dictionary\n",
    "example_dict = {\n",
    "    'item1': 'value1',\n",
    "    'item2': 'value2',\n",
    "    'item3': 'value3',\n",
    "    # 'item4': 'value4'\n",
    "}\n",
    "\n",
    "# Generate pairs\n",
    "pairs = generate_pairs(example_dict)\n",
    "print(pairs)\n"
   ]
  },
  {
   "cell_type": "code",
   "execution_count": null,
   "metadata": {},
   "outputs": [],
   "source": [
    "(0,0) = 0,73\n",
    "(0,1) = 0.73\n",
    "\n",
    "stdv ^\n",
    "(0,2) = 0.3 \n",
    "(0,20)= 0.01\n",
    "\n",
    "\"\"\"\n",
    "pool of candidate = high score\n",
    "\n",
    "txt matching: fuzzy match, \n",
    "\"\"\"\n"
   ]
  },
  {
   "cell_type": "code",
   "execution_count": 4,
   "metadata": {},
   "outputs": [],
   "source": [
    "import pandas as pd\n",
    "data = {\n",
    "    'name': ['Alice', 'Bob', 'Charlie'],\n",
    "    'age': [30, 25, 35]\n",
    "}\n",
    "df = pd.DataFrame(data)"
   ]
  },
  {
   "cell_type": "code",
   "execution_count": 10,
   "metadata": {},
   "outputs": [
    {
     "name": "stdout",
     "output_type": "stream",
     "text": [
      "0\n",
      "1\n",
      "2\n"
     ]
    }
   ],
   "source": [
    "for k, rows in df.iterrows():   \n",
    "    print(rows.)"
   ]
  },
  {
   "cell_type": "code",
   "execution_count": null,
   "metadata": {},
   "outputs": [],
   "source": []
  }
 ],
 "metadata": {
  "kernelspec": {
   "display_name": "context-match",
   "language": "python",
   "name": "python3"
  },
  "language_info": {
   "codemirror_mode": {
    "name": "ipython",
    "version": 3
   },
   "file_extension": ".py",
   "mimetype": "text/x-python",
   "name": "python",
   "nbconvert_exporter": "python",
   "pygments_lexer": "ipython3",
   "version": "3.12.2"
  }
 },
 "nbformat": 4,
 "nbformat_minor": 2
}
