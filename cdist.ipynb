{
 "cells": [
  {
   "cell_type": "code",
   "execution_count": 6,
   "metadata": {},
   "outputs": [
    {
     "name": "stdout",
     "output_type": "stream",
     "text": [
      "[0.61635501 0.47326762 0.87696553 0.23840527 0.53291692]\n",
      "[0.52412417 0.71245148 0.4799476  0.75362221 0.93728032]\n",
      "[[1. 1. 1. 1. 1.]\n",
      " [1. 1. 1. 1. 1.]\n",
      " [1. 1. 1. 1. 1.]\n",
      " [1. 1. 1. 1. 1.]\n",
      " [1. 1. 1. 1. 1.]]\n",
      "tensor([[1., 1., 1., 1., 1.],\n",
      "        [1., 1., 1., 1., 1.],\n",
      "        [1., 1., 1., 1., 1.],\n",
      "        [1., 1., 1., 1., 1.],\n",
      "        [1., 1., 1., 1., 1.]], dtype=torch.float64)\n",
      "True\n"
     ]
    }
   ],
   "source": [
    "import numpy as np\n",
    "\n",
    "# create two random arrays of the same size\n",
    "x = np.random.rand(5)\n",
    "y = np.random.rand(5)\n",
    "\n",
    "print(x)\n",
    "print(y)\n",
    "\n",
    "from scipy.spatial.distance import cdist\n",
    "from sentence_transformers import util\n",
    "\n",
    "# compute the cosine distance between the two arrays using cdist\n",
    "cosine_distance = 1 - cdist(x[:, None], y[:, None], metric='cosine')\n",
    "print(cosine_distance)\n",
    "\n",
    "# compute the cosine distance between the two arrays using sentence_transformers\n",
    "cosine_distance_st = util.pytorch_cos_sim(x[:, None], y[:, None])\n",
    "print(cosine_distance_st)\n",
    "\n",
    "print(np.allclose(cosine_distance, cosine_distance_st.cpu().numpy()))\n"
   ]
  },
  {
   "cell_type": "code",
   "execution_count": 9,
   "metadata": {},
   "outputs": [
    {
     "name": "stdout",
     "output_type": "stream",
     "text": [
      "Cosine similarity using scipy's cdist:\n",
      " [[0.76785282 0.72877287 0.73773856 0.68076054 0.57399827]\n",
      " [0.61634297 0.74934921 0.96000236 0.96592665 0.75205659]\n",
      " [0.5885976  0.87679951 0.67979463 0.78676642 0.6989256 ]\n",
      " [0.7576953  0.78866301 0.73402599 0.82553025 0.67465421]\n",
      " [0.53237274 0.81621932 0.6576293  0.68680345 0.61133636]]\n",
      "Cosine similarity using sentence_transformers' pytorch_cos_sim:\n",
      " tensor([[0.7679, 0.7288, 0.7377, 0.6808, 0.5740],\n",
      "        [0.6163, 0.7493, 0.9600, 0.9659, 0.7521],\n",
      "        [0.5886, 0.8768, 0.6798, 0.7868, 0.6989],\n",
      "        [0.7577, 0.7887, 0.7340, 0.8255, 0.6747],\n",
      "        [0.5324, 0.8162, 0.6576, 0.6868, 0.6113]], dtype=torch.float64)\n",
      "Are the results approximately equal?\n",
      " True\n"
     ]
    }
   ],
   "source": [
    "import numpy as np\n",
    "from scipy.spatial.distance import cdist\n",
    "from sentence_transformers import util\n",
    "\n",
    "# Create two random 2D arrays of shape (5, 10) to have more than one dimension\n",
    "x = np.random.rand(5, 10)\n",
    "y = np.random.rand(5, 10)\n",
    "\n",
    "# Compute the cosine distance between the two arrays using cdist\n",
    "cosine_distance = cdist(x, y, metric='cosine')\n",
    "\n",
    "# Convert cosine distance to cosine similarity\n",
    "cosine_similarity_cdist = 1 - cosine_distance\n",
    "\n",
    "# Compute the cosine similarity between the two arrays using sentence_transformers\n",
    "cosine_similarity_st = util.pytorch_cos_sim(x, y)\n",
    "\n",
    "# Print the results\n",
    "print(\"Cosine similarity using scipy's cdist:\\n\", cosine_similarity_cdist)\n",
    "print(\"Cosine similarity using sentence_transformers' pytorch_cos_sim:\\n\", cosine_similarity_st)\n",
    "\n",
    "# Compare the results\n",
    "comparison = np.isclose(cosine_similarity_cdist, cosine_similarity_st.numpy(), atol=1e-6)\n",
    "print(\"Are the results approximately equal?\\n\", comparison.all())\n"
   ]
  },
  {
   "cell_type": "code",
   "execution_count": 11,
   "metadata": {},
   "outputs": [
    {
     "name": "stdout",
     "output_type": "stream",
     "text": [
      "['Zwolle', 'Zwartewaterland', 'Zwijndrecht', 'Zuidplas', 'Zutphen', 'Zundert', 'Zevenaar', 'Zeist', 'Zoeterwoude', 'Zoetermeer', 'Zandvoort', 'Zeewolde', 'Zaltbommel', 'Woerden', 'Woudenberg', 'Zaanstad', 'Wormerland', 'Winterswijk', 'Woensdrecht', 'Wijk bij Duurstede', 'Wijdemeren', 'Wijchen', 'Weststellingwerf', 'Wierden', 'Westerveld', 'Westervoort', 'Westerwolde', 'Westland', 'Weert', 'West Maas en Waal', 'Westerkwartier', 'West Betuwe', 'Wassenaar', 'Waterland', 'Wageningen', 'Waddinxveen', 'Waalwijk', 'Waadhoeke', 'Waalre', 'Voorst', 'Voorschoten', 'Vught', 'Vlieland', 'Voerendaal', 'Voorne aan Zee', 'Vlissingen', 'Vijfheerenlanden', 'Venray', 'Vlaardingen', 'Veere', 'Venlo', 'Velsen', 'Veldhoven', 'Veendam', 'Valkenswaard', 'Veenendaal', 'Valkenburg aan de Geul', 'Urk', 'Utrecht', 'Vaals', 'Utrechtse Heuvelrug', 'Uithoorn', 'Tytsjerksteradiel', 'Uitgeest', 'Tynaarlo', 'Twenterand', 'Tilburg', 'Tubbergen', 'Teylingen', 'Den Haag', 'Tiel', 'Tholen', 'Súdwest-Fryslân', 'Terschelling', 'Texel', 'Terneuzen', 'Stichtse Vecht', 'Steenwijkerland', 'Stein', 'Steenbergen', 'Stede Broec', 'Staphorst', 'Stadskanaal', 'Someren', 'Son en Breugel', 'Soest', 'Smallingerland', 'Sliedrecht', 'Sluis', 'Sittard-Geleen', 'Sint-Michielsgestel', 'Schouwen-Duiveland', 'Schiermonnikoog', 'Simpelveld', 'Rucphen', 'Scherpenzeel', 'Schagen', 'Schiedam', 'Roosendaal', 'Roermond', 'Rotterdam', 'Rozendaal', 'Rijswijk', 'Roerdalen', 'Ridderkerk', 'Rijssen-Holten', 'Rhenen', 'Rheden', 'Reusel-De Mierden', 'Renswoude', 'Reimerswaal', 'Raalte', 'Renkum', 'Putten', 'Pijnacker-Nootdorp', 'Pekela', 'Purmerend', 'Peel en Maas', 'Overbetuwe', 'Papendrecht', 'Ouder-Amstel', 'Oude IJsselstreek', 'Oss', 'Oudewater', 'Oostzaan', 'Ooststellingwerf', 'Opmeer', 'Opsterland', 'Oosterhout', 'Oost Gelre', 'Ommen', 'Oisterwijk', 'Olst-Wijhe', 'Oldebroek', 'Oldenzaal', 'Oldambt', 'Nunspeet', 'Nuenen, Gerwen en Nederwetten', 'Oirschot', 'Oegstgeest', 'Noordwijk', 'Noordoostpolder', 'Noordenveld', 'Noardeast-Fryslân', 'Nissewaard', 'Noord-Beveland', 'Nieuwegein', 'Nijmegen', 'Nieuwkoop', 'Nijkerk', 'Mook en Middelaar', 'Nederweert', 'Neder-Betuwe', 'Montfoort', 'Moerdijk', 'Montferland', 'Midden-Groningen', 'Molenlanden', 'Midden-Drenthe', 'Middelburg', 'Meppel', 'Midden-Delfland', 'Medemblik', 'Meerssen', 'Meierijstad', 'Maastricht', 'Maashorst', 'Maassluis', 'Maasgouw', 'Maasdriel', 'Lopik', 'Losser', 'Lochem', 'Loon op Zand', 'Lisse', 'Leusden', 'Leudal', 'Lingewaard', 'Lelystad', 'Leiden', 'Leidschendam-Voorburg', 'Leiderdorp', 'Lansingerland', 'Laren', 'Leeuwarden', 'Landsmeer', 'Landgraaf', 'Land van Cuijk', 'Krimpenerwaard', 'Laarbeek', 'Koggenland', 'Katwijk', 'Kerkrade', 'Krimpen aan den IJssel', 'Kaag en Braassem', 'Kapelle', 'Kampen', 'Hulst', 'IJsselstein', 'Houten', 'Huizen', 'Horst aan de Maas', 'Hoorn', 'Hoogeveen', 'Hollands Kroon', 'Hilversum', 'Hof van Twente', 'Hoeksche Waard', 'Heumen', 'Hilvarenbeek', 'Hillegom', 'Heusden', 'Hendrik-Ido-Ambacht', \"'s-Hertogenbosch\", 'Hengelo', 'Het Hogeland', 'Heiloo', 'Helmond', 'Hellendoorn', 'Heerde', 'Heeze-Leende', 'Heerlen', 'Heerenveen', 'Hattem', 'Harlingen', 'Heemskerk', 'Heemstede', 'Hardenberg', 'Hardinxveld-Giessendam', 'Harderwijk', 'Halderberge', 'Haarlem', 'Haarlemmermeer', 'Haaksbergen', 'Gulpen-Wittem', 'Gouda', 'Groningen', 'Goirle', 'Gooise Meren', 'Gorinchem', 'Goes', 'Gilze en Rijen', 'Goeree-Overflakkee', 'Gennep', 'Etten-Leur', 'Geldrop-Mierlo', 'Geertruidenberg', 'Gemert-Bakel', 'Ermelo', 'Epe', 'Enschede', 'Enkhuizen', 'Elburg', 'Eindhoven', 'Emmen', 'Eemnes', 'Eersel', 'Ede', 'Eemsdelta', 'Eijsden-Margraten', 'Duiven', 'Echt-Susteren', 'Edam-Volendam', 'Druten', 'Dongen', 'Dordrecht', 'Drimmelen', 'Dronten', 'Drechterland', 'Doetinchem', 'Dinkelland', 'Doesburg', 'Dijk en Waard', 'Deventer', 'Deurne', 'Diemen', 'De Wolden', 'De Ronde Venen', 'Delft', 'Den Helder', 'De Fryske Marren', 'De Bilt', 'Dantumadiel', 'Dalfsen', 'Culemborg', 'Cranendonck', 'Coevorden', 'Castricum', 'Buren', 'Capelle aan den IJssel', 'Bunnik', 'Bunschoten', 'Brunssum', 'Boxtel', 'Brummen', 'Bronckhorst', 'Breda', 'Borsele', 'Borne', 'Borger-Odoorn', 'Boekel', 'Blaricum', 'Bodegraven-Reeuwijk', 'Bladel', 'Bloemendaal', 'Beuningen', 'Best', 'Bernheze', 'Beverwijk', 'Bergen op Zoom', 'Bergen (LI)', 'Berkelland', 'Bergen (NH)', 'Beesel', 'Berg en Dal', 'Bergeijk', 'Beekdaelen', 'Beek', 'Barendrecht', 'Barneveld', 'Baarle-Nassau', 'Baarn', 'Assen', 'Asten', 'Amsterdam', 'Arnhem', 'Apeldoorn', 'Amstelveen', 'Altena', 'Ameland', 'Amersfoort', 'Almere', 'Almelo', 'Alphen-Chaam', 'Alphen aan den Rijn', 'Albrandswaard', 'Alkmaar', 'Alblasserdam', 'Aalten', 'Achtkarspelen', 'Aalsmeer', 'Aa en Hunze']\n"
     ]
    }
   ],
   "source": [
    "# create a dataframe with some random text\n",
    "import pandas as pd\n",
    "\n",
    "df = pd.read_csv('/Users/datoapanta/Desktop/autopop/context-match/databases/Locations - Netherlands.csv')\n",
    "print(df['Municipality'].astype(str).tolist())"
   ]
  },
  {
   "cell_type": "code",
   "execution_count": null,
   "metadata": {},
   "outputs": [],
   "source": []
  }
 ],
 "metadata": {
  "kernelspec": {
   "display_name": "context-match",
   "language": "python",
   "name": "python3"
  },
  "language_info": {
   "codemirror_mode": {
    "name": "ipython",
    "version": 3
   },
   "file_extension": ".py",
   "mimetype": "text/x-python",
   "name": "python",
   "nbconvert_exporter": "python",
   "pygments_lexer": "ipython3",
   "version": "3.12.2"
  }
 },
 "nbformat": 4,
 "nbformat_minor": 2
}
